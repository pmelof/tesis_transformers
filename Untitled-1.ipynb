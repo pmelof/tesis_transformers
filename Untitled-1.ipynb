{
 "cells": [
  {
   "cell_type": "code",
   "execution_count": 17,
   "metadata": {},
   "outputs": [
    {
     "name": "stdout",
     "output_type": "stream",
     "text": [
      "past_values torch.Size([64, 61])\n",
      "past_time_features torch.Size([64, 61, 2])\n",
      "past_observed_mask torch.Size([64, 61])\n",
      "static_categorical_features torch.Size([64, 1])\n",
      "static_real_features torch.Size([64, 1])\n",
      "future_values torch.Size([64, 24])\n",
      "future_time_features torch.Size([64, 24, 2])\n"
     ]
    }
   ],
   "source": [
    "from huggingface_hub import hf_hub_download\n",
    "import torch\n",
    "\n",
    "file = hf_hub_download(\n",
    "    repo_id=\"kashif/tourism-monthly-batch\", filename=\"train-batch.pt\", repo_type=\"dataset\"\n",
    ")\n",
    "\n",
    "batch = torch.load(file)\n",
    "\n",
    "print(\"past_values\", batch[\"past_values\"].shape)\n",
    "print(\"past_time_features\", batch[\"past_time_features\"].shape)\n",
    "print(\"past_observed_mask\", batch[\"past_observed_mask\"].shape)\n",
    "print(\"static_categorical_features\", batch[\"static_categorical_features\"].shape)\n",
    "print(\"static_real_features\", batch[\"static_real_features\"].shape)\n",
    "print(\"future_values\", batch[\"future_values\"].shape)\n",
    "print(\"future_time_features\", batch[\"future_time_features\"].shape)\n",
    "\n"
   ]
  },
  {
   "cell_type": "code",
   "execution_count": 10,
   "metadata": {},
   "outputs": [
    {
     "data": {
      "text/plain": [
       "tensor([], size=(2, 0, 1))"
      ]
     },
     "execution_count": 10,
     "metadata": {},
     "output_type": "execute_result"
    }
   ],
   "source": [
    "x = torch.zeros([2, 0, 1], dtype=torch.float32 )\n",
    "x"
   ]
  },
  {
   "cell_type": "code",
   "execution_count": 13,
   "metadata": {},
   "outputs": [
    {
     "name": "stdout",
     "output_type": "stream",
     "text": [
      "InformerConfig {\n",
      "  \"activation_dropout\": 0.1,\n",
      "  \"activation_function\": \"gelu\",\n",
      "  \"attention_dropout\": 0.1,\n",
      "  \"attention_type\": \"prob\",\n",
      "  \"cardinality\": [\n",
      "    0\n",
      "  ],\n",
      "  \"context_length\": 12,\n",
      "  \"d_model\": 64,\n",
      "  \"decoder_attention_heads\": 2,\n",
      "  \"decoder_ffn_dim\": 32,\n",
      "  \"decoder_layerdrop\": 0.1,\n",
      "  \"decoder_layers\": 2,\n",
      "  \"distil\": true,\n",
      "  \"distribution_output\": \"student_t\",\n",
      "  \"dropout\": 0.05,\n",
      "  \"embedding_dimension\": [\n",
      "    0\n",
      "  ],\n",
      "  \"encoder_attention_heads\": 2,\n",
      "  \"encoder_ffn_dim\": 32,\n",
      "  \"encoder_layerdrop\": 0.1,\n",
      "  \"encoder_layers\": 2,\n",
      "  \"feature_size\": 9,\n",
      "  \"init_std\": 0.02,\n",
      "  \"input_size\": 1,\n",
      "  \"is_encoder_decoder\": true,\n",
      "  \"lags_sequence\": [\n",
      "    1,\n",
      "    2,\n",
      "    3,\n",
      "    4,\n",
      "    5,\n",
      "    6,\n",
      "    7\n",
      "  ],\n",
      "  \"loss\": \"nll\",\n",
      "  \"model_type\": \"informer\",\n",
      "  \"num_dynamic_real_features\": 0,\n",
      "  \"num_parallel_samples\": 100,\n",
      "  \"num_static_categorical_features\": 0,\n",
      "  \"num_static_real_features\": 0,\n",
      "  \"num_time_features\": 0,\n",
      "  \"prediction_length\": 12,\n",
      "  \"sampling_factor\": 5,\n",
      "  \"scaling\": \"mean\",\n",
      "  \"transformers_version\": \"4.29.2\",\n",
      "  \"use_cache\": true\n",
      "}\n",
      "\n"
     ]
    }
   ],
   "source": [
    "from transformers import InformerConfig, InformerModel\n",
    "\n",
    "# Initializing an Informer configuration with 12 time steps for prediction\n",
    "configuration = InformerConfig(prediction_length=12)\n",
    "\n",
    "# Randomly initializing a model (with random weights) from the configuration\n",
    "model = InformerModel(configuration)\n",
    "\n",
    "# Accessing the model configuration\n",
    "configuration = model.config\n",
    "print(configuration)"
   ]
  }
 ],
 "metadata": {
  "kernelspec": {
   "display_name": ".venv",
   "language": "python",
   "name": "python3"
  },
  "language_info": {
   "codemirror_mode": {
    "name": "ipython",
    "version": 3
   },
   "file_extension": ".py",
   "mimetype": "text/x-python",
   "name": "python",
   "nbconvert_exporter": "python",
   "pygments_lexer": "ipython3",
   "version": "3.8.10"
  },
  "orig_nbformat": 4
 },
 "nbformat": 4,
 "nbformat_minor": 2
}
