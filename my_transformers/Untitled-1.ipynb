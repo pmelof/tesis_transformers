{
 "cells": [
  {
   "cell_type": "code",
   "execution_count": 2,
   "metadata": {},
   "outputs": [
    {
     "data": {
      "text/plain": [
       "array([[   1,    2,    3,    4,    5],\n",
       "       [  11,   22,   33,   44,   55],\n",
       "       [ 111,  222,  333,  444,  555],\n",
       "       [1111, 2222, 3333, 4444, 5555]])"
      ]
     },
     "execution_count": 2,
     "metadata": {},
     "output_type": "execute_result"
    }
   ],
   "source": [
    "import numpy as np\n",
    "\n",
    "X = np.array([[1, 2, 3, 4, 5], [11, 22, 33, 44, 55], [111, 222, 333, 444, 555], [1111, 2222, 3333, 4444, 5555]])\n",
    "Y = np.array([[1, 2], [11, 22], [111, 222], [1111, 2222]])\n",
    "#X = np.asarray(X, dtype=np.float32)\n",
    "X"
   ]
  },
  {
   "cell_type": "code",
   "execution_count": 14,
   "metadata": {},
   "outputs": [
    {
     "data": {
      "text/plain": [
       "array([[   1,    2],\n",
       "       [  11,   22],\n",
       "       [ 111,  222],\n",
       "       [1111, 2222]])"
      ]
     },
     "execution_count": 14,
     "metadata": {},
     "output_type": "execute_result"
    }
   ],
   "source": [
    "Y"
   ]
  },
  {
   "cell_type": "code",
   "execution_count": 15,
   "metadata": {},
   "outputs": [
    {
     "data": {
      "text/plain": [
       "array([[ 1,  2,  3,  4,  5],\n",
       "       [11, 22, 33, 44, 55]])"
      ]
     },
     "execution_count": 15,
     "metadata": {},
     "output_type": "execute_result"
    }
   ],
   "source": [
    "X[0:2, :]"
   ]
  },
  {
   "cell_type": "code",
   "execution_count": 16,
   "metadata": {},
   "outputs": [
    {
     "data": {
      "text/plain": [
       "[array([[ 1,  2,  3,  4,  5],\n",
       "        [11, 22, 33, 44, 55]])]"
      ]
     },
     "execution_count": 16,
     "metadata": {},
     "output_type": "execute_result"
    }
   ],
   "source": [
    "X_seq = []\n",
    "X_seq.append(X[0:2, :])\n",
    "X_seq"
   ]
  },
  {
   "cell_type": "code",
   "execution_count": 12,
   "metadata": {},
   "outputs": [
    {
     "data": {
      "text/plain": [
       "[array([11, 22])]"
      ]
     },
     "execution_count": 12,
     "metadata": {},
     "output_type": "execute_result"
    }
   ],
   "source": [
    "Y_seq = []\n",
    "Y_seq.append(Y[2-1,:])\n",
    "Y_seq"
   ]
  },
  {
   "cell_type": "code",
   "execution_count": 21,
   "metadata": {},
   "outputs": [
    {
     "name": "stdout",
     "output_type": "stream",
     "text": [
      "Primero:  [[1, 2, 3, 4, 5, 11, 22, 33, 44, 55]] [[11, 22]]\n",
      "Segundo:  [[1, 2, 3, 4, 5, 11, 22, 33, 44, 55], [11, 22, 33, 44, 55, 111, 222, 333, 444, 555]] [[11, 22], [111, 222]]\n",
      "Tercero:  [[1, 2, 3, 4, 5, 11, 22, 33, 44, 55], [11, 22, 33, 44, 55, 111, 222, 333, 444, 555], [111, 222, 333, 444, 555, 1111, 2222, 3333, 4444, 5555]] [[11, 22], [111, 222], [1111, 2222]]\n"
     ]
    }
   ],
   "source": [
    "X_seq = []\n",
    "Y_seq = []\n",
    "X_seq.append(np.concatenate(X[0:2,:]).tolist())\n",
    "Y_seq.append(Y[2-1,:].tolist())\n",
    "print(\"Primero: \", X_seq, Y_seq)\n",
    "X_seq.append(np.concatenate(X[1:3,:]).tolist())\n",
    "Y_seq.append(Y[3-1,:].tolist())\n",
    "print(\"Segundo: \", X_seq, Y_seq)\n",
    "X_seq.append(np.concatenate(X[2:4,:]).tolist())\n",
    "Y_seq.append(Y[4-1,:].tolist())\n",
    "print(\"Tercero: \", X_seq, Y_seq)\n"
   ]
  },
  {
   "cell_type": "code",
   "execution_count": 18,
   "metadata": {},
   "outputs": [
    {
     "data": {
      "text/plain": [
       "array([[   1,    2,    3,    4,    5,   11,   22,   33,   44,   55],\n",
       "       [  11,   22,   33,   44,   55,  111,  222,  333,  444,  555],\n",
       "       [ 111,  222,  333,  444,  555, 1111, 2222, 3333, 4444, 5555]])"
      ]
     },
     "execution_count": 18,
     "metadata": {},
     "output_type": "execute_result"
    }
   ],
   "source": [
    "np.array(X_seq)\n"
   ]
  },
  {
   "cell_type": "code",
   "execution_count": 23,
   "metadata": {},
   "outputs": [
    {
     "data": {
      "text/plain": [
       "array([[  11,   22],\n",
       "       [ 111,  222],\n",
       "       [1111, 2222]])"
      ]
     },
     "execution_count": 23,
     "metadata": {},
     "output_type": "execute_result"
    }
   ],
   "source": [
    "np.array(Y_seq)"
   ]
  },
  {
   "cell_type": "code",
   "execution_count": 27,
   "metadata": {},
   "outputs": [
    {
     "name": "stdout",
     "output_type": "stream",
     "text": [
      "Primero:  [[1, 2, 3, 4, 5]] [[1, 2]]\n",
      "Segundo:  [[1, 2, 3, 4, 5], [11, 22, 33, 44, 55]] [[1, 2], [11, 22]]\n",
      "Tercero:  [[1, 2, 3, 4, 5], [11, 22, 33, 44, 55], [111, 222, 333, 444, 555]] [[1, 2], [11, 22], [111, 222]]\n",
      "\n",
      "\n",
      "\n",
      "[[  1   2   3   4   5]\n",
      " [ 11  22  33  44  55]\n",
      " [111 222 333 444 555]]\n",
      "[[  1   2]\n",
      " [ 11  22]\n",
      " [111 222]]\n"
     ]
    }
   ],
   "source": [
    "X_seq = []\n",
    "Y_seq = []\n",
    "X_seq.append(np.concatenate(X[0:1,:]).tolist())\n",
    "Y_seq.append(Y[1-1,:].tolist())\n",
    "print(\"Primero: \", X_seq, Y_seq)\n",
    "X_seq.append(np.concatenate(X[1:2,:]).tolist())\n",
    "Y_seq.append(Y[2-1,:].tolist())\n",
    "print(\"Segundo: \", X_seq, Y_seq)\n",
    "X_seq.append(np.concatenate(X[2:3,:]).tolist())\n",
    "Y_seq.append(Y[3-1,:].tolist())\n",
    "print(\"Tercero: \", X_seq, Y_seq)\n",
    "print(\"\\n\\n\")\n",
    "print(np.array(X_seq))\n",
    "print(np.array(Y_seq))"
   ]
  },
  {
   "cell_type": "code",
   "execution_count": 28,
   "metadata": {},
   "outputs": [
    {
     "name": "stdout",
     "output_type": "stream",
     "text": [
      "Primero:  [[1, 2, 3, 4, 5, 11, 22, 33, 44, 55, 111, 222, 333, 444, 555]] [[111, 222]]\n",
      "Segundo:  [[1, 2, 3, 4, 5, 11, 22, 33, 44, 55, 111, 222, 333, 444, 555], [11, 22, 33, 44, 55, 111, 222, 333, 444, 555, 1111, 2222, 3333, 4444, 5555]] [[111, 222], [1111, 2222]]\n",
      "\n",
      "\n",
      "\n",
      "[[   1    2    3    4    5   11   22   33   44   55  111  222  333  444\n",
      "   555]\n",
      " [  11   22   33   44   55  111  222  333  444  555 1111 2222 3333 4444\n",
      "  5555]]\n",
      "[[ 111  222]\n",
      " [1111 2222]]\n"
     ]
    }
   ],
   "source": [
    "X_seq = []\n",
    "Y_seq = []\n",
    "X_seq.append(np.concatenate(X[0:3,:]).tolist())\n",
    "Y_seq.append(Y[3-1,:].tolist())\n",
    "print(\"Primero: \", X_seq, Y_seq)\n",
    "X_seq.append(np.concatenate(X[1:4,:]).tolist())\n",
    "Y_seq.append(Y[4-1,:].tolist())\n",
    "print(\"Segundo: \", X_seq, Y_seq)\n",
    "# X_seq.append(np.concatenate(X[2:5,:]).tolist())\n",
    "# Y_seq.append(Y[5-1,:].tolist())\n",
    "# print(\"Tercero: \", X_seq, Y_seq)\n",
    "print(\"\\n\\n\")\n",
    "print(np.array(X_seq))\n",
    "print(np.array(Y_seq))"
   ]
  },
  {
   "attachments": {},
   "cell_type": "markdown",
   "metadata": {},
   "source": [
    "Otra prueba"
   ]
  },
  {
   "cell_type": "code",
   "execution_count": 39,
   "metadata": {},
   "outputs": [],
   "source": [
    "a = np.array([[1, 2, 3], [1, 2, 3], [1, 2, 3], [1, 2, 3]])\n",
    "b = np.array([[4, 5, 6, 7, 8], [4, 5, 6, 7, 8]])\n",
    "c = np.array([[9, 10], [9, 10], [9, 10], [9, 10], [9, 10], [9, 10]])"
   ]
  },
  {
   "cell_type": "code",
   "execution_count": 40,
   "metadata": {},
   "outputs": [
    {
     "data": {
      "text/plain": [
       "array([ 1.,  2.,  3.,  1.,  2.,  3.,  1.,  2.,  3.,  1.,  2.,  3.,  4.,\n",
       "        5.,  6.,  7.,  8.,  4.,  5.,  6.,  7.,  8.,  9., 10.,  9., 10.,\n",
       "        9., 10.,  9., 10.,  9., 10.,  9., 10.])"
      ]
     },
     "execution_count": 40,
     "metadata": {},
     "output_type": "execute_result"
    }
   ],
   "source": [
    "d = np.array([])\n",
    "d = np.append(d, a)\n",
    "d =np.append(d, b)\n",
    "d = np.append(d, c)\n",
    "d"
   ]
  },
  {
   "cell_type": "code",
   "execution_count": 2,
   "metadata": {},
   "outputs": [
    {
     "data": {
      "text/plain": [
       "[[1, 2, 3, 4], [4, 5, 6, 7]]"
      ]
     },
     "execution_count": 2,
     "metadata": {},
     "output_type": "execute_result"
    }
   ],
   "source": [
    "res = []\n",
    "a = [1, 2, 3, 4]\n",
    "b = [4, 5, 6, 7]\n",
    "res.append(a)\n",
    "res.append(b)\n",
    "res"
   ]
  },
  {
   "cell_type": "code",
   "execution_count": null,
   "metadata": {},
   "outputs": [],
   "source": [
    "import json\n",
    "a=[{\"a\":1, \"b\":2}\n",
    "   ,{\"a\":11, \"b\":22}\n",
    "   ,{\"a\":33, \"b\":3}\n",
    "]\n",
    "\n",
    "aa = [x[\"b\"] for x in a]\n",
    "print(json.dumps(aa, indent=2))"
   ]
  },
  {
   "cell_type": "code",
   "execution_count": 35,
   "metadata": {},
   "outputs": [
    {
     "name": "stdout",
     "output_type": "stream",
     "text": [
      "X(2, 4) = [[ 1.2 -0.4  2.   3.1]\n",
      " [ 1.2  0.4  4.   1. ]]\n",
      "[-0.4 -0.3 -0.2 -0.1 -0.   0.1  0.2  0.3  0.4  0.5  0.6  0.7  0.8  0.9\n",
      "  1.   1.1  1.2  1.3  1.4  1.5  1.6  1.7  1.8  1.9  2.   2.1  2.2  2.3\n",
      "  2.4  2.5  2.6  2.7  2.8  2.9  3.   3.1  3.2  3.3  3.4  3.5  3.6  3.7\n",
      "  3.8  3.9  4.   4.1  4.2  4.3  4.4  4.5  4.6  4.7  4.8  4.9]\n"
     ]
    }
   ],
   "source": [
    "X = np.array([[ 1.2, -0.4,  2,  3.1], [ 1.2,  0.4,  4,  1. ]])\n",
    "voca = np.arange(np.min(X), np.max(X)+1, 0.1).round(1)\n",
    "print(f\"X{X.shape} = {X}\")\n",
    "print(voca)"
   ]
  },
  {
   "cell_type": "code",
   "execution_count": 36,
   "metadata": {},
   "outputs": [
    {
     "data": {
      "text/plain": [
       "44"
      ]
     },
     "execution_count": 36,
     "metadata": {},
     "output_type": "execute_result"
    }
   ],
   "source": [
    "int(np.where(voca==X[1][2])[0])"
   ]
  },
  {
   "cell_type": "code",
   "execution_count": 37,
   "metadata": {},
   "outputs": [
    {
     "name": "stdout",
     "output_type": "stream",
     "text": [
      "i:0, j:0, aux:16\n",
      "i:0, j:1, aux:0\n",
      "i:0, j:2, aux:24\n",
      "i:0, j:3, aux:35\n",
      "i:1, j:0, aux:16\n",
      "i:1, j:1, aux:8\n",
      "i:1, j:2, aux:44\n",
      "i:1, j:3, aux:14\n"
     ]
    }
   ],
   "source": [
    "i=0\n",
    "res=[]\n",
    "while i < X.shape[0]:\n",
    "    j=0\n",
    "    lin = []    \n",
    "    while j < X.shape[1]:\n",
    "        aux = int(np.where(voca==X[i][j])[0])\n",
    "        print(f\"i:{i}, j:{j}, aux:{aux}\")\n",
    "        lin.append(aux)\n",
    "        j=j+1\n",
    "    res.append(lin)\n",
    "    i=i+1"
   ]
  },
  {
   "cell_type": "code",
   "execution_count": 39,
   "metadata": {},
   "outputs": [
    {
     "name": "stdout",
     "output_type": "stream",
     "text": [
      "[[ 1.2 -0.4  2.   3.1]\n",
      " [ 1.2  0.4  4.   1. ]]\n",
      "[[16  0 24 35]\n",
      " [16  8 44 14]]\n"
     ]
    }
   ],
   "source": [
    "print(X)\n",
    "print(np.array(res))"
   ]
  },
  {
   "cell_type": "code",
   "execution_count": 5,
   "metadata": {},
   "outputs": [
    {
     "name": "stdout",
     "output_type": "stream",
     "text": [
      "transformers/opt/only_velocity/normalized\n",
      "transformers/opt/only_velocity/normalized/params/loco/mua/nombre_archivo\n"
     ]
    }
   ],
   "source": [
    "import os\n",
    "\n",
    "dir_output = f'transformers/eval/only_velocity/normalized'\n",
    "asd = dir_output.replace('eval', 'opt')\n",
    "print(asd)\n",
    "\n",
    "print(os.path.join(asd, 'params/loco/mua', 'nombre_archivo'))"
   ]
  },
  {
   "cell_type": "code",
   "execution_count": 6,
   "metadata": {},
   "outputs": [
    {
     "ename": "TypeError",
     "evalue": "Object dtype dtype('O') has no native HDF5 equivalent",
     "output_type": "error",
     "traceback": [
      "\u001b[0;31m---------------------------------------------------------------------------\u001b[0m",
      "\u001b[0;31mTypeError\u001b[0m                                 Traceback (most recent call last)",
      "Cell \u001b[0;32mIn[6], line 53\u001b[0m\n\u001b[1;32m      4\u001b[0m history \u001b[39m=\u001b[39m [\n\u001b[1;32m      5\u001b[0m     {\n\u001b[1;32m      6\u001b[0m       \u001b[39m\"\u001b[39m\u001b[39mloss_epoch\u001b[39m\u001b[39m\"\u001b[39m: \u001b[39m8211.339950753094\u001b[39m,\n\u001b[0;32m   (...)\u001b[0m\n\u001b[1;32m     49\u001b[0m     }\n\u001b[1;32m     50\u001b[0m     ]\n\u001b[1;32m     52\u001b[0m \u001b[39mwith\u001b[39;00m h5py\u001b[39m.\u001b[39mFile(\u001b[39m'\u001b[39m\u001b[39mexample.h5\u001b[39m\u001b[39m'\u001b[39m, \u001b[39m'\u001b[39m\u001b[39mw\u001b[39m\u001b[39m'\u001b[39m) \u001b[39mas\u001b[39;00m f:\n\u001b[0;32m---> 53\u001b[0m     f[\u001b[39m'\u001b[39;49m\u001b[39mhistory_train\u001b[39;49m\u001b[39m'\u001b[39;49m] \u001b[39m=\u001b[39m np\u001b[39m.\u001b[39masarray(history)\n",
      "File \u001b[0;32m/usr/local/lib/python3.8/dist-packages/h5py/_hl/group.py:483\u001b[0m, in \u001b[0;36mGroup.__setitem__\u001b[0;34m(self, name, obj)\u001b[0m\n\u001b[1;32m    480\u001b[0m     htype\u001b[39m.\u001b[39mcommit(\u001b[39mself\u001b[39m\u001b[39m.\u001b[39mid, name, lcpl\u001b[39m=\u001b[39mlcpl)\n\u001b[1;32m    482\u001b[0m \u001b[39melse\u001b[39;00m:\n\u001b[0;32m--> 483\u001b[0m     ds \u001b[39m=\u001b[39m \u001b[39mself\u001b[39;49m\u001b[39m.\u001b[39;49mcreate_dataset(\u001b[39mNone\u001b[39;49;00m, data\u001b[39m=\u001b[39;49mobj)\n\u001b[1;32m    484\u001b[0m     h5o\u001b[39m.\u001b[39mlink(ds\u001b[39m.\u001b[39mid, \u001b[39mself\u001b[39m\u001b[39m.\u001b[39mid, name, lcpl\u001b[39m=\u001b[39mlcpl)\n",
      "File \u001b[0;32m/usr/local/lib/python3.8/dist-packages/h5py/_hl/group.py:183\u001b[0m, in \u001b[0;36mGroup.create_dataset\u001b[0;34m(self, name, shape, dtype, data, **kwds)\u001b[0m\n\u001b[1;32m    180\u001b[0m         parent_path, name \u001b[39m=\u001b[39m name\u001b[39m.\u001b[39mrsplit(\u001b[39mb\u001b[39m\u001b[39m'\u001b[39m\u001b[39m/\u001b[39m\u001b[39m'\u001b[39m, \u001b[39m1\u001b[39m)\n\u001b[1;32m    181\u001b[0m         group \u001b[39m=\u001b[39m \u001b[39mself\u001b[39m\u001b[39m.\u001b[39mrequire_group(parent_path)\n\u001b[0;32m--> 183\u001b[0m dsid \u001b[39m=\u001b[39m dataset\u001b[39m.\u001b[39;49mmake_new_dset(group, shape, dtype, data, name, \u001b[39m*\u001b[39;49m\u001b[39m*\u001b[39;49mkwds)\n\u001b[1;32m    184\u001b[0m dset \u001b[39m=\u001b[39m dataset\u001b[39m.\u001b[39mDataset(dsid)\n\u001b[1;32m    185\u001b[0m \u001b[39mreturn\u001b[39;00m dset\n",
      "File \u001b[0;32m/usr/local/lib/python3.8/dist-packages/h5py/_hl/dataset.py:86\u001b[0m, in \u001b[0;36mmake_new_dset\u001b[0;34m(parent, shape, dtype, data, name, chunks, compression, shuffle, fletcher32, maxshape, compression_opts, fillvalue, scaleoffset, track_times, external, track_order, dcpl, dapl, efile_prefix, virtual_prefix, allow_unknown_filter, rdcc_nslots, rdcc_nbytes, rdcc_w0)\u001b[0m\n\u001b[1;32m     84\u001b[0m     \u001b[39melse\u001b[39;00m:\n\u001b[1;32m     85\u001b[0m         dtype \u001b[39m=\u001b[39m numpy\u001b[39m.\u001b[39mdtype(dtype)\n\u001b[0;32m---> 86\u001b[0m     tid \u001b[39m=\u001b[39m h5t\u001b[39m.\u001b[39;49mpy_create(dtype, logical\u001b[39m=\u001b[39;49m\u001b[39m1\u001b[39;49m)\n\u001b[1;32m     88\u001b[0m \u001b[39m# Legacy\u001b[39;00m\n\u001b[1;32m     89\u001b[0m \u001b[39mif\u001b[39;00m \u001b[39many\u001b[39m((compression, shuffle, fletcher32, maxshape, scaleoffset)) \u001b[39mand\u001b[39;00m chunks \u001b[39mis\u001b[39;00m \u001b[39mFalse\u001b[39;00m:\n",
      "File \u001b[0;32mh5py/h5t.pyx:1664\u001b[0m, in \u001b[0;36mh5py.h5t.py_create\u001b[0;34m()\u001b[0m\n",
      "File \u001b[0;32mh5py/h5t.pyx:1688\u001b[0m, in \u001b[0;36mh5py.h5t.py_create\u001b[0;34m()\u001b[0m\n",
      "File \u001b[0;32mh5py/h5t.pyx:1748\u001b[0m, in \u001b[0;36mh5py.h5t.py_create\u001b[0;34m()\u001b[0m\n",
      "\u001b[0;31mTypeError\u001b[0m: Object dtype dtype('O') has no native HDF5 equivalent"
     ]
    }
   ],
   "source": [
    "/home/paty/tesis/tesis_transformers/my_transformers/opt/only_velocity/normalized/best_weights/indy/sua/indy_20161017_02_baks_rounded_1.pt"
   ]
  },
  {
   "cell_type": "code",
   "execution_count": 1,
   "metadata": {},
   "outputs": [
    {
     "name": "stdout",
     "output_type": "stream",
     "text": [
      "dir_output my_transformers/opt/only_velocity/normalized/best_weights/indy/sua\n",
      "file_name indy_20161017_02_baks_rounded_1.h5\n",
      "best_weights_path my_transformers/opt/only_velocity/normalized/best_weights/indy/sua/indy_20161017_02_baks_rounded_1_best.pt\n"
     ]
    }
   ],
   "source": [
    "import os\n",
    "\n",
    "dir_output = 'my_transformers/opt/only_velocity/normalized/best_weights/indy/sua'\n",
    "file_name = 'indy_20161017_02_baks_rounded_1.h5'\n",
    "best_weights_path = os.path.join(f'{dir_output}', f\"{file_name[:-3]}_best.pt\")\n",
    "\n",
    "print(\"dir_output\", dir_output)\n",
    "print(\"file_name\", file_name)\n",
    "print(\"best_weights_path\", best_weights_path)"
   ]
  },
  {
   "cell_type": "code",
   "execution_count": 9,
   "metadata": {},
   "outputs": [
    {
     "name": "stdout",
     "output_type": "stream",
     "text": [
      "si\n"
     ]
    }
   ],
   "source": [
    "if 'best' in best_weights_path:\n",
    "    print(\"si\")\n",
    "else:\n",
    "    print(\"no\")"
   ]
  },
  {
   "cell_type": "code",
   "execution_count": 21,
   "metadata": {},
   "outputs": [
    {
     "name": "stdout",
     "output_type": "stream",
     "text": [
      "largos  f1: 5 3; f2: 2 4; f3: 3 5\n",
      "[array([[3. , 5.5, 0. ],\n",
      "       [1.1, 6. , 3.3],\n",
      "       [8. , 8. , 4. ],\n",
      "       [4.3, 7.2, 9.1],\n",
      "       [2.2, 2. , 0. ]]), array([[3.5, 5. , 1. , 8.9],\n",
      "       [1. , 2.1, 6. , 7. ]]), array([[3. , 5. , 6. , 7.8, 4. ],\n",
      "       [9. , 8. , 7.5, 4. , 4. ],\n",
      "       [2.3, 5. , 8. , 3. , 4. ]])]\n",
      "max_cols: 5, min_cols: 3\n"
     ]
    }
   ],
   "source": [
    "import numpy as np\n",
    "\n",
    "f1 = np.array([[3, 5.5, 0], [1.1, 6, 3.3], [8, 8, 4], [4.3, 7.2, 9.1], [2.2, 2, 0]])\n",
    "f2 = np.array([[3.5, 5, 1, 8.9], [1, 2.1, 6, 7]])\n",
    "f3 = np.array([[3, 5, 6, 7.8, 4], [9, 8, 7.5, 4, 4], [2.3, 5, 8, 3, 4]])\n",
    "\n",
    "print(f\"largos  f1: {len(f1)} {len(f1[0])}; f2: {len(f2)} {len(f2[0])}; f3: {len(f3)} {len(f3[0])}\")\n",
    "\n",
    "# Agrupando archivos en una sola lista\n",
    "Xs = []\n",
    "max_cols = 0\n",
    "min_cols = 999999999999999999999\n",
    "\n",
    "Xs.append(f1)\n",
    "Xs.append(f2)\n",
    "Xs.append(f3)\n",
    "print(Xs)\n",
    "# calculando cantidad columnas máximo y mínimo de todos los archivos\n",
    "for X in Xs:\n",
    "    if max_cols < len(X[0]):\n",
    "        max_cols = len(X[0]) \n",
    "    if min_cols > len(X[0]):\n",
    "        min_cols = len(X[0])\n",
    "print(f\"max_cols: {max_cols}, min_cols: {min_cols}\")\n"
   ]
  },
  {
   "cell_type": "code",
   "execution_count": 27,
   "metadata": {},
   "outputs": [
    {
     "name": "stdout",
     "output_type": "stream",
     "text": [
      "[array([[3. , 5.5, 0. , 0. , 0. ],\n",
      "       [1.1, 6. , 3.3, 0. , 0. ],\n",
      "       [8. , 8. , 4. , 0. , 0. ],\n",
      "       [4.3, 7.2, 9.1, 0. , 0. ],\n",
      "       [2.2, 2. , 0. , 0. , 0. ]]), array([[3.5, 5. , 1. , 8.9, 0. ],\n",
      "       [1. , 2.1, 6. , 7. , 0. ]]), array([[3. , 5. , 6. , 7.8, 4. ],\n",
      "       [9. , 8. , 7.5, 4. , 4. ],\n",
      "       [2.3, 5. , 8. , 3. , 4. ]])]\n"
     ]
    }
   ],
   "source": [
    "# Las columnas deben ser el mismo número para todos\n",
    "# Usando padding, rellenando con 0 espacios faltantes\n",
    "i = 0\n",
    "while i < len(Xs):\n",
    "    if len(Xs[i][0]) != max_cols:\n",
    "        resto = max_cols - len(Xs[i][0])\n",
    "        Xs[i] = np.pad(Xs[i], (0,resto), constant_values=(0))\n",
    "        Xs[i] = Xs[i][:-resto]\n",
    "    i=i+1\n",
    "print(Xs)    "
   ]
  },
  {
   "cell_type": "code",
   "execution_count": 13,
   "metadata": {},
   "outputs": [
    {
     "name": "stdout",
     "output_type": "stream",
     "text": [
      "[array([[3. , 5.5, 0. ],\n",
      "       [1.1, 6. , 3.3],\n",
      "       [8. , 8. , 4. ],\n",
      "       [4.3, 7.2, 9.1],\n",
      "       [2.2, 2. , 0. ]]), array([[3.5, 5. , 1. ],\n",
      "       [1. , 2.1, 6. ]]), array([[3. , 5. , 6. ],\n",
      "       [9. , 8. , 7.5],\n",
      "       [2.3, 5. , 8. ]])]\n"
     ]
    }
   ],
   "source": [
    "# Las columnas deben ser el mismo número para todos\n",
    "# Truncando\n",
    "i = 0\n",
    "while i < len(Xs):\n",
    "    if len(Xs[i][0]) != min_cols:\n",
    "        resto = len(Xs[i][0]) - min_cols\n",
    "        temp = []\n",
    "        for elem in Xs[i]:\n",
    "            elem = list(elem[:-resto])\n",
    "            temp.append(elem)\n",
    "        Xs[i] = np.array(temp)\n",
    "    i=i+1\n",
    "print(Xs) "
   ]
  },
  {
   "cell_type": "code",
   "execution_count": 28,
   "metadata": {},
   "outputs": [
    {
     "name": "stdout",
     "output_type": "stream",
     "text": [
      "[array([[3. , 5.5, 0. , 0. , 0. ],\n",
      "       [1.1, 6. , 3.3, 0. , 0. ],\n",
      "       [8. , 8. , 4. , 0. , 0. ],\n",
      "       [4.3, 7.2, 9.1, 0. , 0. ],\n",
      "       [2.2, 2. , 0. , 0. , 0. ]]), array([[3.5, 5. , 1. , 8.9, 0. ],\n",
      "       [1. , 2.1, 6. , 7. , 0. ]]), array([[3. , 5. , 6. , 7.8, 4. ],\n",
      "       [9. , 8. , 7.5, 4. , 4. ],\n",
      "       [2.3, 5. , 8. , 3. , 4. ]])]\n",
      "---------------\n",
      "[[3.0, 5.5, 0.0, 0.0, 0.0], [1.1, 6.0, 3.3, 0.0, 0.0], [8.0, 8.0, 4.0, 0.0, 0.0], [4.3, 7.2, 9.1, 0.0, 0.0], [2.2, 2.0, 0.0, 0.0, 0.0], [3.5, 5.0, 1.0, 8.9, 0.0], [1.0, 2.1, 6.0, 7.0, 0.0], [3.0, 5.0, 6.0, 7.8, 4.0], [9.0, 8.0, 7.5, 4.0, 4.0], [2.3, 5.0, 8.0, 3.0, 4.0]]\n",
      "[[3.  5.5 0.  0.  0. ]\n",
      " [1.1 6.  3.3 0.  0. ]\n",
      " [8.  8.  4.  0.  0. ]\n",
      " [4.3 7.2 9.1 0.  0. ]\n",
      " [2.2 2.  0.  0.  0. ]\n",
      " [3.5 5.  1.  8.9 0. ]\n",
      " [1.  2.1 6.  7.  0. ]\n",
      " [3.  5.  6.  7.8 4. ]\n",
      " [9.  8.  7.5 4.  4. ]\n",
      " [2.3 5.  8.  3.  4. ]]\n"
     ]
    }
   ],
   "source": [
    "print(Xs)\n",
    "print(\"---------------\")\n",
    "res = []\n",
    "for elem in Xs:\n",
    "    for e in elem:\n",
    "        t = e.tolist()\n",
    "        res.append(t)\n",
    "print(res)\n",
    "print(np.array(res))"
   ]
  },
  {
   "cell_type": "code",
   "execution_count": 8,
   "metadata": {},
   "outputs": [
    {
     "name": "stdout",
     "output_type": "stream",
     "text": [
      "[\"'indy_20161017_02_baks_rounded_1.h5', 'indy_20160407_02_baks_rounded_1.h5'\"]\n",
      "['indy_20161017_02_baks_rounded_1.h5', 'indy_20160407_02_baks_rounded_1.h5']\n"
     ]
    },
    {
     "data": {
      "text/plain": [
       "str"
      ]
     },
     "execution_count": 8,
     "metadata": {},
     "output_type": "execute_result"
    }
   ],
   "source": [
    "a = \"['indy_20161017_02_baks_rounded_1.h5', 'indy_20160407_02_baks_rounded_1.h5']\"\n",
    "b = a.replace('\"', '')\n",
    "sopa = []\n",
    "sopa.append(a[1:-1])\n",
    "print(sopa)\n",
    "print(b)\n",
    "type(b)"
   ]
  },
  {
   "cell_type": "code",
   "execution_count": 10,
   "metadata": {},
   "outputs": [
    {
     "name": "stdout",
     "output_type": "stream",
     "text": [
      "False\n"
     ]
    }
   ],
   "source": [
    "c = ['indy_20161017_02_baks_rounded_1.h5', 'indy_20160407_02_baks_rounded_1.h5']\n",
    "type(c)\n",
    "\n",
    "print(b == c)\n"
   ]
  },
  {
   "cell_type": "code",
   "execution_count": 11,
   "metadata": {},
   "outputs": [
    {
     "name": "stdout",
     "output_type": "stream",
     "text": [
      "['indy_20161017_02_baks_rounded_1.h5', 'indy_20160407_02_baks_rounded_1.h5']\n"
     ]
    },
    {
     "data": {
      "text/plain": [
       "list"
      ]
     },
     "execution_count": 11,
     "metadata": {},
     "output_type": "execute_result"
    }
   ],
   "source": [
    "d = \"indy_20160407_02_baks_rounded_1.h5, indy_20160419_01_baks_rounded_1.h5, indy_20160921_01_baks_rounded_1.h5, indy_20161017_02_baks_rounded_1.h5, indy_20161212_02_baks_rounded_1.h5\"\n",
    "e = d.split(\", \")\n",
    "print(e)\n",
    "type(e)\n",
    "\n"
   ]
  },
  {
   "cell_type": "code",
   "execution_count": 5,
   "metadata": {},
   "outputs": [
    {
     "name": "stdout",
     "output_type": "stream",
     "text": [
      "loco_20170216_02_baks_rounded_1.h5\n",
      "loco_20170228_02_baks_rounded_1.h5\n",
      "loco_20170217_02_baks_rounded_1.h5\n",
      "loco_20170214_02_baks_rounded_1.h5\n",
      "loco_20170302_02_baks_rounded_1.h5\n",
      "loco_20170213_02_baks_rounded_1.h5\n",
      "loco_20170210_03_baks_rounded_1.h5\n",
      "loco_20170215_02_baks_rounded_1.h5\n",
      "loco_20170227_04_baks_rounded_1.h5\n",
      "loco_20170301_05_baks_rounded_1.h5\n"
     ]
    }
   ],
   "source": [
    "import os\n",
    "\n",
    "for dataset in os.listdir('data/rounded/loco'):\n",
    "    print(dataset)"
   ]
  },
  {
   "cell_type": "code",
   "execution_count": 4,
   "metadata": {},
   "outputs": [
    {
     "data": {
      "text/plain": [
       "['data',\n",
       " 'eval',\n",
       " '__pycache__',\n",
       " 'opt',\n",
       " 'example.h5',\n",
       " 'Untitled-1.ipynb',\n",
       " 'vocabulary_test.py',\n",
       " 'test.txt',\n",
       " 'process_input.py',\n",
       " 'model.py',\n",
       " 'transformers_p.py',\n",
       " 'opt_transformers.py',\n",
       " 'best_params',\n",
       " 'eval_transformers.py']"
      ]
     },
     "execution_count": 4,
     "metadata": {},
     "output_type": "execute_result"
    }
   ],
   "source": [
    "os.listdir('.')"
   ]
  }
 ],
 "metadata": {
  "kernelspec": {
   "display_name": "Python 3",
   "language": "python",
   "name": "python3"
  },
  "language_info": {
   "codemirror_mode": {
    "name": "ipython",
    "version": 3
   },
   "file_extension": ".py",
   "mimetype": "text/x-python",
   "name": "python",
   "nbconvert_exporter": "python",
   "pygments_lexer": "ipython3",
   "version": "3.8.10"
  },
  "orig_nbformat": 4
 },
 "nbformat": 4,
 "nbformat_minor": 2
}
