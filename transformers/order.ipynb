{
 "cells": [
  {
   "attachments": {},
   "cell_type": "markdown",
   "metadata": {},
   "source": [
    "# Orden tesis\n"
   ]
  },
  {
   "cell_type": "code",
   "execution_count": 2,
   "metadata": {},
   "outputs": [],
   "source": [
    "import os\n",
    "from process_input import generateBigVocabulary, readDataset, transform_data, datasetPreprocessing"
   ]
  },
  {
   "attachments": {},
   "cell_type": "markdown",
   "metadata": {},
   "source": [
    "## Creación de carpetas para futuras ejecuciones"
   ]
  },
  {
   "attachments": {},
   "cell_type": "markdown",
   "metadata": {},
   "source": [
    "### Datos\n",
    "\n",
    "- baks: Contiene los arhcivos de indy y de loco preprocesados hasta la etapa de baks (ambos tienen SUA, MUA e y_task).\n",
    "- rounded: Mismos archivos de indy y loco pero con SUA y MUA redondeados al primer decimal.\n"
   ]
  },
  {
   "cell_type": "code",
   "execution_count": 11,
   "metadata": {},
   "outputs": [],
   "source": [
    "# Creando carpeta data/baks y data/rounded\n",
    "dirname_baks = os.path.join('data', 'baks')\n",
    "dirname_rounded = os.path.join('data', 'rounded')\n",
    "\n",
    "# Si no existe crea las carpetas\n",
    "os.makedirs(dirname_baks, exist_ok=True)\n",
    "os.makedirs(dirname_rounded, exist_ok=True)\n",
    "\n",
    "# Creo también carpetas para indy y loco dentro de baks y rounded\n",
    "os.makedirs(f'{dirname_baks}/indy', exist_ok=True)\n",
    "os.makedirs(f'{dirname_baks}/loco', exist_ok=True)\n",
    "os.makedirs(f'{dirname_rounded}/indy', exist_ok=True)\n",
    "os.makedirs(f'{dirname_rounded}/loco', exist_ok=True)"
   ]
  },
  {
   "attachments": {},
   "cell_type": "markdown",
   "metadata": {},
   "source": [
    "Dentro de baks ya se tendrán los archivos de indy y loco.\n",
    "\n",
    "Para rounded se tendrá que ejecutar la función datasetPreprocessing de processinput.py"
   ]
  },
  {
   "cell_type": "code",
   "execution_count": 10,
   "metadata": {},
   "outputs": [
    {
     "name": "stdout",
     "output_type": "stream",
     "text": [
      "Total archivos baks/indy: 37\n",
      "Total archivos baks/loco: 10\n"
     ]
    }
   ],
   "source": [
    "# Cantidad archivos carpeta baks/indy:37 y baks/loco:10\n",
    "print(\"Total archivos baks/indy:\", len(os.listdir(f'{dirname_baks}/indy')))\n",
    "print(\"Total archivos baks/loco:\", len(os.listdir(f'{dirname_baks}/loco')))\n"
   ]
  },
  {
   "attachments": {},
   "cell_type": "markdown",
   "metadata": {},
   "source": [
    "### Opt\n",
    "\n",
    "Para cuando se ejecute el optimizador de parámetros se requerirán las siguientes carpetas base:"
   ]
  },
  {
   "attachments": {},
   "cell_type": "markdown",
   "metadata": {},
   "source": [
    "- opt: Todos los resultados obtenidos del optimizador.\n",
    "\n",
    "En su interior:\n",
    "- only_velocity: Se trabaja solo con la velocidad como salida.\n",
    "- all_ytask: Se trabaja con la posición, velocidad y aceleración como salida.\n",
    "\n",
    "Cada una de ellas tendrán:\n",
    "- normalized: Datos de indy y loco para SUA y MUA normalizados.\n",
    "- not_normalized: Datos de indy y loco para SUA y MUA NO normalizados.\n",
    "\n",
    "A su vez, esas carpetas tendrán:\n",
    "- best_weights: Los mejores pesos de indy y loco para SUA y MUA.\n",
    "- params: Los mejores hiperparámetros encontrados con el optimizador para los archivos de indy y loco para SUA y MUA."
   ]
  },
  {
   "cell_type": "code",
   "execution_count": 12,
   "metadata": {},
   "outputs": [],
   "source": [
    "# Creando carpetas para solo velocidad, normalizados, mejores pesos de train, para indy y loco ambos con SUA y MUA.\n",
    "os.makedirs(f'opt/only_velocity/normalized/best_weights/indy/sua', exist_ok=True)\n",
    "os.makedirs(f'opt/only_velocity/normalized/best_weights/indy/mua', exist_ok=True)\n",
    "os.makedirs(f'opt/only_velocity/normalized/best_weights/loco/sua', exist_ok=True)\n",
    "os.makedirs(f'opt/only_velocity/normalized/best_weights/loco/mua', exist_ok=True)\n",
    "# Creando carpetas para solo velocidad, normalizados, mejores hiperparámetros, para indy y loco ambos con SUA y MUA.\n",
    "os.makedirs(f'opt/only_velocity/normalized/params/indy/sua', exist_ok=True)\n",
    "os.makedirs(f'opt/only_velocity/normalized/params/indy/mua', exist_ok=True)\n",
    "os.makedirs(f'opt/only_velocity/normalized/params/loco/sua', exist_ok=True)\n",
    "os.makedirs(f'opt/only_velocity/normalized/params/loco/mua', exist_ok=True)\n",
    "\n",
    "# Creando carpetas para solo velocidad, NO normalizados, mejores pesos de train, para indy y loco ambos con SUA y MUA.\n",
    "os.makedirs(f'opt/only_velocity/not_normalized/best_weights/indy/sua', exist_ok=True)\n",
    "os.makedirs(f'opt/only_velocity/not_normalized/best_weights/indy/mua', exist_ok=True)\n",
    "os.makedirs(f'opt/only_velocity/not_normalized/best_weights/loco/sua', exist_ok=True)\n",
    "os.makedirs(f'opt/only_velocity/not_normalized/best_weights/loco/mua', exist_ok=True)\n",
    "# Creando carpetas para solo velocidad, NO normalizados, mejores hiperparámetros, para indy y loco ambos con SUA y MUA.\n",
    "os.makedirs(f'opt/only_velocity/not_normalized/params/indy/sua', exist_ok=True)\n",
    "os.makedirs(f'opt/only_velocity/not_normalized/params/indy/mua', exist_ok=True)\n",
    "os.makedirs(f'opt/only_velocity/not_normalized/params/loco/sua', exist_ok=True)\n",
    "os.makedirs(f'opt/only_velocity/not_normalized/params/loco/mua', exist_ok=True)\n",
    "\n",
    "\n",
    "\n",
    "# Creando carpetas para todo y_task, normalizados, mejores pesos de train, para indy y loco ambos con SUA y MUA.\n",
    "os.makedirs(f'opt/all_ytask/normalized/best_weights/indy/sua', exist_ok=True)\n",
    "os.makedirs(f'opt/all_ytask/normalized/best_weights/indy/mua', exist_ok=True)\n",
    "os.makedirs(f'opt/all_ytask/normalized/best_weights/loco/sua', exist_ok=True)\n",
    "os.makedirs(f'opt/all_ytask/normalized/best_weights/loco/mua', exist_ok=True)\n",
    "# Creando carpetas para todo y_task, normalizados, mejores hiperparámetros, para indy y loco ambos con SUA y MUA.\n",
    "os.makedirs(f'opt/all_ytask/normalized/params/indy/sua', exist_ok=True)\n",
    "os.makedirs(f'opt/all_ytask/normalized/params/indy/mua', exist_ok=True)\n",
    "os.makedirs(f'opt/all_ytask/normalized/params/loco/sua', exist_ok=True)\n",
    "os.makedirs(f'opt/all_ytask/normalized/params/loco/mua', exist_ok=True)\n",
    "\n",
    "# Creando carpetas para todo y_task, NO normalizados, mejores pesos de train, para indy y loco ambos con SUA y MUA.\n",
    "os.makedirs(f'opt/all_ytask/not_normalized/best_weights/indy/sua', exist_ok=True)\n",
    "os.makedirs(f'opt/all_ytask/not_normalized/best_weights/indy/mua', exist_ok=True)\n",
    "os.makedirs(f'opt/all_ytask/not_normalized/best_weights/loco/sua', exist_ok=True)\n",
    "os.makedirs(f'opt/all_ytask/not_normalized/best_weights/loco/mua', exist_ok=True)\n",
    "# Creando carpetas para todo y_task, NO normalizados, mejores hiperparámetros, para indy y loco ambos con SUA y MUA.\n",
    "os.makedirs(f'opt/all_ytask/not_normalized/params/indy/sua', exist_ok=True)\n",
    "os.makedirs(f'opt/all_ytask/not_normalized/params/indy/mua', exist_ok=True)\n",
    "os.makedirs(f'opt/all_ytask/not_normalized/params/loco/sua', exist_ok=True)\n",
    "os.makedirs(f'opt/all_ytask/not_normalized/params/loco/mua', exist_ok=True)"
   ]
  },
  {
   "attachments": {},
   "cell_type": "markdown",
   "metadata": {},
   "source": [
    "### Eval\n",
    "\n",
    "Para cuando se ejecute la evaluación del modelo con los mejores hiperparámetros encontrados por el optimizador se requerirán las siguientes carpetas base:"
   ]
  },
  {
   "attachments": {},
   "cell_type": "markdown",
   "metadata": {},
   "source": [
    "- eval: Todos los resultados obtenidos de la evaluación.\n",
    "\n",
    "En su interior:\n",
    "- only_velocity: Se trabaja solo con la velocidad como salida.\n",
    "- all_ytask: Se trabaja con la posición, velocidad y aceleración como salida.\n",
    "\n",
    "Cada una de ellas tendrán:\n",
    "- normalized: Datos de indy y loco para SUA y MUA normalizados.\n",
    "- not_normalized: Datos de indy y loco para SUA y MUA NO normalizados.\n",
    "\n",
    "A su vez, esas carpetas tendrán:\n",
    "- best_weights: Los mejores pesos de indy y loco para SUA y MUA.\n",
    "- results: Los resultados obtenidos finalmente para los archivos de indy y loco para SUA y MUA."
   ]
  },
  {
   "cell_type": "code",
   "execution_count": 13,
   "metadata": {},
   "outputs": [],
   "source": [
    "# Creando carpetas para solo velocidad, normalizados, mejores pesos de train, para indy y loco ambos con SUA y MUA.\n",
    "os.makedirs(f'eval/only_velocity/normalized/best_weights/indy/sua', exist_ok=True)\n",
    "os.makedirs(f'eval/only_velocity/normalized/best_weights/indy/mua', exist_ok=True)\n",
    "os.makedirs(f'eval/only_velocity/normalized/best_weights/loco/sua', exist_ok=True)\n",
    "os.makedirs(f'eval/only_velocity/normalized/best_weights/loco/mua', exist_ok=True)\n",
    "# Creando carpetas para solo velocidad, normalizados, mejores hiperparámetros, para indy y loco ambos con SUA y MUA.\n",
    "os.makedirs(f'eval/only_velocity/normalized/results/indy/sua', exist_ok=True)\n",
    "os.makedirs(f'eval/only_velocity/normalized/results/indy/mua', exist_ok=True)\n",
    "os.makedirs(f'eval/only_velocity/normalized/results/loco/sua', exist_ok=True)\n",
    "os.makedirs(f'eval/only_velocity/normalized/results/loco/mua', exist_ok=True)\n",
    "\n",
    "# Creando carpetas para solo velocidad, NO normalizados, mejores pesos de train, para indy y loco ambos con SUA y MUA.\n",
    "os.makedirs(f'eval/only_velocity/not_normalized/best_weights/indy/sua', exist_ok=True)\n",
    "os.makedirs(f'eval/only_velocity/not_normalized/best_weights/indy/mua', exist_ok=True)\n",
    "os.makedirs(f'eval/only_velocity/not_normalized/best_weights/loco/sua', exist_ok=True)\n",
    "os.makedirs(f'eval/only_velocity/not_normalized/best_weights/loco/mua', exist_ok=True)\n",
    "# Creando carpetas para solo velocidad, NO normalizados, mejores hiperparámetros, para indy y loco ambos con SUA y MUA.\n",
    "os.makedirs(f'eval/only_velocity/not_normalized/results/indy/sua', exist_ok=True)\n",
    "os.makedirs(f'eval/only_velocity/not_normalized/results/indy/mua', exist_ok=True)\n",
    "os.makedirs(f'eval/only_velocity/not_normalized/results/loco/sua', exist_ok=True)\n",
    "os.makedirs(f'eval/only_velocity/not_normalized/results/loco/mua', exist_ok=True)\n",
    "\n",
    "\n",
    "\n",
    "# Creando carpetas para todo y_task, normalizados, mejores pesos de train, para indy y loco ambos con SUA y MUA.\n",
    "os.makedirs(f'eval/all_ytask/normalized/best_weights/indy/sua', exist_ok=True)\n",
    "os.makedirs(f'eval/all_ytask/normalized/best_weights/indy/mua', exist_ok=True)\n",
    "os.makedirs(f'eval/all_ytask/normalized/best_weights/loco/sua', exist_ok=True)\n",
    "os.makedirs(f'eval/all_ytask/normalized/best_weights/loco/mua', exist_ok=True)\n",
    "# Creando carpetas para todo y_task, normalizados, mejores hiperparámetros, para indy y loco ambos con SUA y MUA.\n",
    "os.makedirs(f'eval/all_ytask/normalized/results/indy/sua', exist_ok=True)\n",
    "os.makedirs(f'eval/all_ytask/normalized/results/indy/mua', exist_ok=True)\n",
    "os.makedirs(f'eval/all_ytask/normalized/results/loco/sua', exist_ok=True)\n",
    "os.makedirs(f'eval/all_ytask/normalized/results/loco/mua', exist_ok=True)\n",
    "\n",
    "# Creando carpetas para todo y_task, NO normalizados, mejores pesos de train, para indy y loco ambos con SUA y MUA.\n",
    "os.makedirs(f'eval/all_ytask/not_normalized/best_weights/indy/sua', exist_ok=True)\n",
    "os.makedirs(f'eval/all_ytask/not_normalized/best_weights/indy/mua', exist_ok=True)\n",
    "os.makedirs(f'eval/all_ytask/not_normalized/best_weights/loco/sua', exist_ok=True)\n",
    "os.makedirs(f'eval/all_ytask/not_normalized/best_weights/loco/mua', exist_ok=True)\n",
    "# Creando carpetas para todo y_task, NO normalizados, mejores hiperparámetros, para indy y loco ambos con SUA y MUA.\n",
    "os.makedirs(f'eval/all_ytask/not_normalized/results/indy/sua', exist_ok=True)\n",
    "os.makedirs(f'eval/all_ytask/not_normalized/results/indy/mua', exist_ok=True)\n",
    "os.makedirs(f'eval/all_ytask/not_normalized/results/loco/sua', exist_ok=True)\n",
    "os.makedirs(f'eval/all_ytask/not_normalized/results/loco/mua', exist_ok=True)"
   ]
  },
  {
   "attachments": {},
   "cell_type": "markdown",
   "metadata": {},
   "source": [
    "## Pasos a ejecutar"
   ]
  },
  {
   "attachments": {},
   "cell_type": "markdown",
   "metadata": {},
   "source": [
    "### 1. Redondear SUA y MUA de indy y loco, esto al decimal 1."
   ]
  },
  {
   "cell_type": "code",
   "execution_count": null,
   "metadata": {},
   "outputs": [],
   "source": [
    "decimal = 1\n",
    "# Para indy, si no se tienen los 37 archivos redondeados, entonces redondea todo.\n",
    "if len(os.listdir('data/rounded/indy')) < 37:\n",
    "    for filename_dataset in os.listdir('data/baks/indy'):\n",
    "        datasetPreprocessing(filepath_dataset=f\"data/baks/indy/{filename_dataset}\", filename_dataset=filename_dataset, filepath_output=\"data/rounded/indy\",  rounded_decimal=decimal)\n",
    "# Para loco, si no se tienen los 10 archivos redondeados, entonces redondea todo.\n",
    "if len(os.listdir('data/rounded/loco')) < 10:\n",
    "    for filename_dataset in os.listdir('data/baks/loco'):\n",
    "        datasetPreprocessing(filepath_dataset=f\"data/baks/loco/{filename_dataset}\", filename_dataset=filename_dataset, filepath_output=\"data/rounded/loco\",  rounded_decimal=decimal)\n"
   ]
  }
 ],
 "metadata": {
  "kernelspec": {
   "display_name": "Python 3",
   "language": "python",
   "name": "python3"
  },
  "language_info": {
   "codemirror_mode": {
    "name": "ipython",
    "version": 3
   },
   "file_extension": ".py",
   "mimetype": "text/x-python",
   "name": "python",
   "nbconvert_exporter": "python",
   "pygments_lexer": "ipython3",
   "version": "3.8.10"
  },
  "orig_nbformat": 4
 },
 "nbformat": 4,
 "nbformat_minor": 2
}
